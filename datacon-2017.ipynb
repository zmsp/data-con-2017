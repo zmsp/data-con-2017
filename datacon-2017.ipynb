{
 "cells": [
  {
   "cell_type": "markdown",
   "metadata": {},
   "source": [
    "# Angela Zutavvern: Opening Talk\n",
    "* Had lots of little anecdote about various AI/Big Data/ ML stuffs. However didn't go deep into any of them.\n",
    "* statistics: 3k startup, 91b US funds, 31B chinese funds are invested in the area of big data.\n",
    "* Google vs. tesla anecdotes in the topic of self-driving: The amount of data google collected in 10 years equals to the data tesla collects in 10 hours.\n",
    "* OTTO trucking self-driving module: Uber bought OTTO Trucking. It's a $30k device that you put on your truck that converts it to self-divable.\n",
    "* ML problems should be small iterative projects. Typically 1 week iteration.\n",
    "* DOC in the Box project by NASA: AI doctor project for Astronuts.\n",
    "* PNT = positioning, navigation, and timing really important for militaries. Lots of projects are there for data science.\n",
    "\n",
    "\n",
    "Some random advices during her talk:\n",
    "* ML is good at executing and human is good at making things work. We woun't lose our jobs.\n",
    "* ML/AI will create more jobs then it destroys near future\n",
    "* Fight hype and negativity\n",
    "* Change culture that works. \n",
    "* Find a purpose in life. Volunteer and give back your skills. IT/ML/AI is a demanding field and you are needed everywhere. "
   ]
  },
  {
   "cell_type": "markdown",
   "metadata": {},
   "source": [
    "# IARPA project:\n",
    "It's modeled after Darpa but focuses on national intelligence needs. The presenter said 90% of the projects get approved (When you talk to a PM and if they like the idea and asks for a white paper). Seems worth it if we want to pursue some big data project. \n",
    "\n",
    "Some projects: \n",
    "* FELIX (Finding engineering linked indicator): Being able to create gnomes at will, detect engineered organism.\n",
    "* HECTOR- Homomorphic encryption computing techniques with overhead reduction: Develop tools and program \n",
    "* Proteas: DNA: Discover relationship \n",
    "* Zika virus project:  Provided lot of data about mosquitos.\n",
    "\n",
    "Funds project 9-12 months. The goal is to Get an idea from disbelief to doubt.\n",
    "\n",
    "https://www.iarpa.gov/\n",
    "\n",
    "<img src=\"files/images/IARPA1.jpg\">\n",
    "\n",
    "<img src=\"files/images/IARPA2.jpg\">\n"
   ]
  },
  {
   "cell_type": "markdown",
   "metadata": {},
   "source": []
  },
  {
   "cell_type": "markdown",
   "metadata": {},
   "source": [
    "# Building a Mature Data Science Practice\n",
    "\n",
    "By Dr John Eberhardt @JohnSEberhard3\n",
    "\n",
    "\n",
    "I thought his wisdom is relevant to what we are doing. I will try to get his slide. \n",
    "\n",
    "### Goal of data science\n",
    "* Helping people make better decision\n",
    "* What is data science - fusion of few different fields\n",
    "* What is a data scientist? - T shaped individual - broad experience in one or two area and broad knowledge\n",
    "* Where do we find data scientists? They are made not found.\n",
    "\n",
    "### What does maturity means?\n",
    "* Measure capabilities and able to reproduce documents \n",
    "\n",
    "### How did database and ERP get mature?\n",
    "* Systematize\n",
    "* Standardize\n",
    "* Train\n",
    "* Functionally decompose\n",
    "\n",
    "### Full Stack Data Science is a continuum -- all about operations (data.gov)\n",
    "* Understand the data- when you get data.\n",
    "* Getting your data. (Collecting and ingestion\n",
    "\n",
    "\n",
    "#### Colelction ingestion maturity\n",
    "...\n",
    "#### Analytics maturity:\n",
    "...\n",
    "#### Presentation maturity\n",
    "* basic plot -> Customer center format -> dynamic visualization, unstructured data -> live dynamic, real time presentation.\n",
    "\n",
    "#### Infrastructure maturity:\n",
    "Key tools:\n",
    "* cloud, container, continuous integration\n",
    "* Infrastructure should be hot swappable.\n",
    "* Can implement basic tools - > basic infrastructure management tools> infrastructure as code., automation, CI> Self-hosted infrastructure.\n",
    "\n",
    "#### How to get mature?\n",
    "* team skill growth\n",
    "* Drive project standardization\n",
    "* Create reusable infrastructure\n",
    "* Achieve practice area depth and complacency\n",
    "\n",
    "\n",
    "#### What does maturity feel like?\n",
    "* more time-solving problems instead of troubleshooting\n",
    "* closer engagement with customers and end users\n",
    "* measurable solution\n",
    "* quality work at cheaper cost\n",
    "\n",
    "Lookup NIST 1500 framework.\n",
    "Lookup OODA\n",
    "\n",
    "\n",
    "\n",
    "<img src=\"files/images/john.jpg\">\n",
    "<img src=\"files/images/john1.jpg\">\n",
    "\n",
    "<img src=\"files/images/john2.jpg\">\n",
    "\n",
    "<img src=\"files/images/john3.jpg\">\n"
   ]
  },
  {
   "cell_type": "markdown",
   "metadata": {},
   "source": [
    "# Streaming Analytics: Data on the Move\n",
    "By Joe Witt @joewitt26\n",
    "* When streaming data, latency is not important. It's rather when a user does some thing, and the time it takes to get feedback.\n",
    "* Lookup OODA loop\n",
    "* The way company sees it bandwidth holds things back. But the problem is: We should run the analysis process as close to the data possible.\n",
    "* Storage is cheap- But transfer cost is sky rocketing.\n",
    "* Streaming is not about minimizing latency, it's about how quickly you can take new action.\n",
    "* Data usually gets created in a different space than where it gets ingested. (BAD)\n",
    "* Some tools he mentioned for streaming data\n",
    "    - APACHE -NiFi\n",
    "    - Apache storm\n",
    "    - Kafka\n",
    "    - Apex\n",
    "<img src=\"files/images/stream.jpg\">"
   ]
  },
  {
   "cell_type": "markdown",
   "metadata": {},
   "source": [
    "# Computing power and data science\n",
    "\n",
    "Dr Ali -GW Dean\n",
    "\n",
    "Most challenging problems require HPC,\n",
    "Macroscoping vs Microscopic level: \n",
    "\n",
    "\n",
    "#### An Interference Experiment with Bullets example:\n",
    "* Bullet particle one curve\n",
    "* water wave example\n",
    "\n",
    "He went on explaining some theoretical physics problems and at the end connected it to data science. \n"
   ]
  },
  {
   "cell_type": "markdown",
   "metadata": {},
   "source": [
    "# Geospatial Innovation\n",
    "\n",
    "Goal: gather analytics and give to decision maker\n",
    "\n",
    "\n",
    "\n",
    "### Working with planetaryy scale data\n",
    "\n",
    "Merlin related: Digital Globe is BIG AWS partner. They get free stuffs from AWS. They made some geo spatial prject with AWS.\n",
    "\n",
    "### AWS public datasets https://aws.amazon.com/public-datasets/ << cool\n",
    "* aws.amazon.com/earth  \n",
    "* Sentinel-2 on AWS - LanSat  \n",
    "* sentinel-hub.com  \n",
    "* OpenStreetMap on AWS  \n",
    "\n",
    "One project Joe talked about: He created a prject on AWS stack. When an earthquake happens, it fires up some lambda function and grabs satlite images of a region, grabs street map data and hospitle data to to measure how bad the quake was.\n",
    "\n",
    "\n"
   ]
  },
  {
   "cell_type": "markdown",
   "metadata": {},
   "source": [
    "# Investing in Data Science Panel:\n",
    "\n",
    "Really cool conversation on how to get funded on big data projects. (Only 2% of the projects get funded, 90% of the funded projects fail) \n",
    "\n",
    "If you need funds talk to these guys are rich:\n",
    "* Jen O'Daniel @dcvcjen (Investing director, CIT Gap Funds)\n",
    "* Adella Toulon, @BitcoinKhaleesi (Interested in crypto currency projects) - Talked to her about possibly making a auto trader bot.\n",
    "* Mourad Yesayan @MouradYesayan\n",
    "\n",
    "\n"
   ]
  },
  {
   "cell_type": "markdown",
   "metadata": {},
   "source": [
    "# interesting exhibit booth\n",
    "(NSFW) https://www.graphicsexproject.com/ \n",
    "<img src=\"files/images/sp2.jpg\">\n",
    "<img src=\"files/images/sp1.jpg\">\n",
    "\n",
    "This model visualizes what happens when you touch different part of body: \n",
    "\n",
    "<img src=\"files/images/sp.jpg\">"
   ]
  },
  {
   "cell_type": "markdown",
   "metadata": {},
   "source": [
    "#### There is a conspiracy theory with the logo. The main organizer Crag Parisot is the CEO of ADA.  The logo supposed to embed ADA into your subconscious mind. \n",
    "\n",
    "https://www.ncsi.com/dcdatacon/2017/\n",
    "\n",
    "<img src=\"files/images/con.png\">"
   ]
  },
  {
   "cell_type": "code",
   "execution_count": null,
   "metadata": {
    "collapsed": true
   },
   "outputs": [],
   "source": []
  }
 ],
 "metadata": {
  "kernelspec": {
   "display_name": "Python 3",
   "language": "python",
   "name": "python3"
  },
  "language_info": {
   "codemirror_mode": {
    "name": "ipython",
    "version": 3
   },
   "file_extension": ".py",
   "mimetype": "text/x-python",
   "name": "python",
   "nbconvert_exporter": "python",
   "pygments_lexer": "ipython3",
   "version": "3.6.1"
  }
 },
 "nbformat": 4,
 "nbformat_minor": 2
}
